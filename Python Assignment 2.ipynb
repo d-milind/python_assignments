{
 "cells": [
  {
   "cell_type": "code",
   "execution_count": 1,
   "metadata": {},
   "outputs": [
    {
     "name": "stdout",
     "output_type": "stream",
     "text": [
      "* \n",
      "* * \n",
      "* * * \n",
      "* * * * \n",
      "* * * * * \n",
      "* * * * * * \n",
      "* * * * * * * \n",
      "* * * * * * * * \n",
      "* * * * * * * * * \n",
      "* * * * * * * * * * \n",
      "* * * * * * * * * \n",
      "* * * * * * * * \n",
      "* * * * * * * \n",
      "* * * * * * \n",
      "* * * * * \n",
      "* * * * \n",
      "* * * \n",
      "* * \n",
      "* \n"
     ]
    }
   ],
   "source": [
    "def printPattern(n):\n",
    "    # printing 1st triangle\n",
    "    for i in range(0,n):\n",
    "        for j in range(0,i+1):\n",
    "            print(\"*\",end=\" \")\n",
    "        print()\n",
    "    # now printing down-triangle\n",
    "    for j in range(i, 0, -1):\n",
    "        for k in range(0, j):\n",
    "            print(\"*\", end=\" \")\n",
    "        print()\n",
    "\n",
    "printPattern(10)"
   ]
  },
  {
   "cell_type": "code",
   "execution_count": 6,
   "metadata": {},
   "outputs": [
    {
     "name": "stdout",
     "output_type": "stream",
     "text": [
      "Please enter what you want to reverse : Milind Diwane\n",
      "enawiD dniliM\n"
     ]
    }
   ],
   "source": [
    "# Write a Python program to reverse a word after accepting the input from the user.\n",
    "# Input word: ineuron\n",
    "# Output: norueni\n",
    "\n",
    "def reverseWord(word):\n",
    "    return (word[::-1])\n",
    "    \n",
    "userInput=input(\"Please enter what you want to reverse : \")\n",
    "outputString=reverseWord(userInput)\n",
    "print(outputString)"
   ]
  }
 ],
 "metadata": {
  "kernelspec": {
   "display_name": "Python 3",
   "language": "python",
   "name": "python3"
  },
  "language_info": {
   "codemirror_mode": {
    "name": "ipython",
    "version": 3
   },
   "file_extension": ".py",
   "mimetype": "text/x-python",
   "name": "python",
   "nbconvert_exporter": "python",
   "pygments_lexer": "ipython3",
   "version": "3.7.6"
  }
 },
 "nbformat": 4,
 "nbformat_minor": 4
}
